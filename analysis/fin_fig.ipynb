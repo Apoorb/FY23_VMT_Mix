{
 "cells": [
  {
   "attachments": {},
   "cell_type": "markdown",
   "metadata": {},
   "source": [
    "# Create figures to identify changes and potential issue with the VMT-Mix Processing\n",
    "Created by: Apoorb  \n",
    "Created on: 02/23/2023  "
   ]
  },
  {
   "cell_type": "code",
   "execution_count": null,
   "metadata": {},
   "outputs": [],
   "source": [
    "p_vmt_mix_13_19 = (\n",
    "\tr\"E:\\Texas A&M Transportation Institute\"\n",
    "\tr\"\\TxDOT_TPP_Projects - Task 5.3 Activity Forecasting Factors\\Data\"\n",
    "\tr\"\\output\\fy23_fin_vmtmix_13_19_022023.csv\"\n",
    ")\n",
    "\n",
    "p_vmt_mix_13_20 = (\n",
    "\tr\"E:\\Texas A&M Transportation Institute\"\n",
    "\tr\"\\TxDOT_TPP_Projects - Task 5.3 Activity Forecasting Factors\\Data\"\n",
    "\tr\"\\output\\fy23_fin_vmtmix_13_20_022023.csv\"\n",
    ")"
   ]
  },
  {
   "cell_type": "code",
   "execution_count": null,
   "metadata": {},
   "outputs": [],
   "source": [
    "vmt_mix_13_19 = pd.read_csv(p_vmt_mix_13_19)\n",
    "vmt_mix_13_20 = pd.read_csv(p_vmt_mix_13_20)"
   ]
  },
  {
   "cell_type": "code",
   "execution_count": null,
   "metadata": {},
   "outputs": [],
   "source": []
  }
 ],
 "metadata": {
  "kernelspec": {
   "display_name": "py39",
   "language": "python",
   "name": "python3"
  },
  "language_info": {
   "name": "python",
   "version": "3.9.13"
  },
  "orig_nbformat": 4,
  "vscode": {
   "interpreter": {
    "hash": "4935e2d6ec8a9412f9e4b0c7038963fdce5d63c2b68b3ac5ebf8a4a048b67717"
   }
  }
 },
 "nbformat": 4,
 "nbformat_minor": 2
}
