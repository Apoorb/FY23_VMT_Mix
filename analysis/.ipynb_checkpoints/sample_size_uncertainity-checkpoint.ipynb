{
 "cells": [
  {
   "cell_type": "markdown",
   "id": "744af329",
   "metadata": {},
   "source": [
    "#\n",
    "\n",
    "Questions:\n",
    "1. What is the sample size used for a category: district + road type + TOD\n",
    "2. What is the precision in the estimate.\n",
    "3. How do we consider blocks and subject:\n",
    "    - is the counter a subject?\n",
    "    - is the year blocking variable?\n",
    "    - how to determine precision based on above two for district + road type + TOD?\n",
    " \n",
    "    "
   ]
  },
  {
   "cell_type": "code",
   "execution_count": null,
   "id": "500cac74",
   "metadata": {},
   "outputs": [],
   "source": []
  }
 ],
 "metadata": {
  "kernelspec": {
   "display_name": "Python 3 (Spyder)",
   "language": "python3",
   "name": "python3"
  },
  "language_info": {
   "codemirror_mode": {
    "name": "ipython",
    "version": 3
   },
   "file_extension": ".py",
   "mimetype": "text/x-python",
   "name": "python",
   "nbconvert_exporter": "python",
   "pygments_lexer": "ipython3",
   "version": "3.9.13"
  }
 },
 "nbformat": 4,
 "nbformat_minor": 5
}
