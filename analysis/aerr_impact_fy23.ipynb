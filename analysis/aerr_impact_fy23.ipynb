{
 "cells": [
  {
   "cell_type": "markdown",
   "id": "296c54b6",
   "metadata": {},
   "source": [
    "# Test the 2020 AERR emission quantity sensitivity b/w old and new VMT Mix\n",
    "Created by: Apoorb\n",
    "--"
   ]
  },
  {
   "cell_type": "markdown",
   "id": "bed4c66a",
   "metadata": {},
   "source": [
    "## Housekeeping"
   ]
  },
  {
   "cell_type": "code",
   "execution_count": 59,
   "id": "08ad1260",
   "metadata": {},
   "outputs": [],
   "source": [
    "import sys\n",
    "\n",
    "sys.path.append(r\"C:\\Users\\a-bibeka\\PycharmProjects\\FY23_VMT_Mix\")"
   ]
  },
  {
   "cell_type": "code",
   "execution_count": 60,
   "id": "5a1c55eb",
   "metadata": {},
   "outputs": [],
   "source": [
    "import pathlib\n",
    "from pathlib import Path\n",
    "import pandas as pd\n",
    "import geopandas as gpd\n",
    "import numpy as np\n",
    "from vmtmix_fy23.utils import path_county_shp"
   ]
  },
  {
   "cell_type": "markdown",
   "id": "10b2c3ed",
   "metadata": {},
   "source": [
    "Set Paths"
   ]
  },
  {
   "cell_type": "code",
   "execution_count": 61,
   "id": "6a2d37c5",
   "metadata": {},
   "outputs": [],
   "source": [
    "path_aerr20_csvs = Path(\n",
    "    r\"E:\\Texas A&M Transportation Institute\\TxDOT_TPP_Projects - Task 5.3 Activity Forecasting Factors\\Data\\fy23_vmt_mix\\Input\\aerr20_output\"\n",
    ")\n",
    "path_sutft_act = Path.joinpath(path_aerr20_csvs, \"mvs303_act_sutft.csv\")\n",
    "path_sutft_emis = Path.joinpath(path_aerr20_csvs, \"mvs303_emis_sutft.csv\")\n",
    "path_vmtmix_fy22_13_19 = Path(\n",
    "    r\"E:\\Texas A&M Transportation Institute\\TxDOT_TPP_Projects - Task 5.3 Activity Forecasting Factors\\Data\\fy23_vmt_mix\\output\\fy22_fin_vmtmix_13_19_042022.csv\"\n",
    ")\n",
    "\n",
    "path_vmtmix_fy23_13_21 = Path(\n",
    "    r\"E:\\Texas A&M Transportation Institute\\TxDOT_TPP_Projects - Task 5.3 Activity Forecasting Factors\\Data\\fy23_vmt_mix\\output\\fy23_fin_vmtmix_13_21_032023.csv\"\n",
    ")"
   ]
  },
  {
   "cell_type": "markdown",
   "id": "c733927a",
   "metadata": {},
   "source": [
    "Analysis FIPS"
   ]
  },
  {
   "cell_type": "code",
   "execution_count": 62,
   "id": "86d90c95",
   "metadata": {},
   "outputs": [],
   "source": [
    "gdf_county = gpd.read_file(path_county_shp)\n",
    "district_map = gdf_county[[\"TXDOT_DIST\", \"FIPS_ST_CN\"]].astype(int)\n",
    "\n",
    "hgb_fips = [48201, 48039, 48157, 48473, 48339, 48291, 48071, 48167]\n",
    "san_fips = [48029, 48091, 48187, 48259, 48493]\n",
    "hgb_san_fips = list(hgb_fips) + list(san_fips)\n",
    "fips_254 = list(district_map.FIPS_ST_CN.unique())\n",
    "analysis_fips = fips_254\n",
    "\n",
    "\n",
    "district_map_anly = district_map.loc[\n",
    "    district_map.FIPS_ST_CN.isin(analysis_fips)\n",
    "].rename(columns={\"FIPS_ST_CN\": \"fips\", \"TXDOT_DIST\": \"txdot_dist\"})"
   ]
  },
  {
   "cell_type": "markdown",
   "id": "ccef4383",
   "metadata": {},
   "source": [
    "## Process AERR20 SUT-FT Emission and Activity to get County-level VMT and Emission Rates"
   ]
  },
  {
   "cell_type": "code",
   "execution_count": 63,
   "id": "8ca7657f",
   "metadata": {},
   "outputs": [],
   "source": [
    "sutft_act = pd.read_csv(path_sutft_act)\n",
    "suft_emis = pd.read_csv(path_sutft_emis)"
   ]
  },
  {
   "cell_type": "markdown",
   "id": "c91a9e90",
   "metadata": {},
   "source": [
    "### Get county-level VMT and filter to VMT activity."
   ]
  },
  {
   "cell_type": "code",
   "execution_count": 64,
   "id": "41b4789a",
   "metadata": {},
   "outputs": [],
   "source": [
    "sutft_vmt = sutft_act.loc[sutft_act.mvs_act_type == \"vmt\"]\n",
    "sutft_vmt = sutft_vmt.rename(columns={\"activity\": \"vmt\"})\n",
    "sutft_vmt[\"vmt_agg\"] = sutft_vmt.groupby(\n",
    "    [\n",
    "        \"county\",\n",
    "        \"fips\",\n",
    "        \"year_id\",\n",
    "        \"road_type_id\",\n",
    "        \"roadtype_lab\",\n",
    "        \"activity_type_id\",\n",
    "        \"mvs_act_type\",\n",
    "        \"act_em_lab\",\n",
    "    ]\n",
    ").vmt.transform(sum)\n",
    "sutft_vmt = sutft_vmt.filter(\n",
    "    items=[\n",
    "        \"county\",\n",
    "        \"fips\",\n",
    "        \"year_id\",\n",
    "        \"road_type_id\",\n",
    "        \"roadtype_lab\",\n",
    "        \"activity_type_id\",\n",
    "        \"mvs_act_type\",\n",
    "        \"source_type_id\",\n",
    "        \"fuel_type_id\",\n",
    "        \"act_em_lab\",\n",
    "        \"vmt\",\n",
    "        \"vmt_agg\",\n",
    "    ]\n",
    ")"
   ]
  },
  {
   "cell_type": "markdown",
   "id": "67b88c04",
   "metadata": {},
   "source": [
    "### Back-calculate Emission On-raod Emission Rate."
   ]
  },
  {
   "cell_type": "code",
   "execution_count": 65,
   "id": "9533afb6",
   "metadata": {},
   "outputs": [],
   "source": [
    "suft_emis_1 = (\n",
    "    suft_emis.loc[\n",
    "        (suft_emis.process_lab.isin([\"Running_Exh\", \"Crank_Run_Exh\"]))\n",
    "        & (suft_emis.road_type_id != 1)\n",
    "    ]\n",
    "    .groupby(\n",
    "        [\n",
    "            \"county\",\n",
    "            \"fips\",\n",
    "            \"year_id\",\n",
    "            \"road_type_id\",\n",
    "            \"roadtype_lab\",\n",
    "            \"pollutant_id\",\n",
    "            \"short_name_mvs3\",\n",
    "            \"sort_order_pol\",\n",
    "            \"eis_poll_nei17\",\n",
    "            \"short_name_nei17\",\n",
    "            \"source_type_id\",\n",
    "            \"fuel_type_id\",\n",
    "        ],\n",
    "        as_index=False,\n",
    "    )\n",
    "    .emission_quant.sum()\n",
    ")"
   ]
  },
  {
   "cell_type": "code",
   "execution_count": 66,
   "id": "c3c067d1",
   "metadata": {},
   "outputs": [],
   "source": [
    "suft_emis_vmt = suft_emis_1.merge(\n",
    "    sutft_vmt,\n",
    "    on=[\n",
    "        \"county\",\n",
    "        \"fips\",\n",
    "        \"year_id\",\n",
    "        \"road_type_id\",\n",
    "        \"roadtype_lab\",\n",
    "        \"source_type_id\",\n",
    "        \"fuel_type_id\",\n",
    "    ],\n",
    "    how=\"left\",\n",
    ")"
   ]
  },
  {
   "cell_type": "code",
   "execution_count": 67,
   "id": "6dca5387",
   "metadata": {},
   "outputs": [
    {
     "name": "stderr",
     "output_type": "stream",
     "text": [
      "C:\\Users\\a-bibeka\\AppData\\Local\\Temp\\ipykernel_20840\\1111270578.py:4: SettingWithCopyWarning: \n",
      "A value is trying to be set on a copy of a slice from a DataFrame.\n",
      "Try using .loc[row_indexer,col_indexer] = value instead\n",
      "\n",
      "See the caveats in the documentation: https://pandas.pydata.org/pandas-docs/stable/user_guide/indexing.html#returning-a-view-versus-a-copy\n",
      "  suft_emis_vmt_onroad[\"emission_rate_calc\"] = (\n"
     ]
    }
   ],
   "source": [
    "suft_emis_vmt_onroad = suft_emis_vmt.loc[\n",
    "    lambda df: (df.road_type_id != 1) & (df.vmt != 0)\n",
    "]\n",
    "suft_emis_vmt_onroad[\"emission_rate_calc\"] = (\n",
    "    suft_emis_vmt_onroad.emission_quant / suft_emis_vmt_onroad.vmt\n",
    ")"
   ]
  },
  {
   "cell_type": "markdown",
   "id": "97ed679a",
   "metadata": {},
   "source": [
    "Filter to Analysis FIPS and get Dennis's VMT-Mix from the Data"
   ]
  },
  {
   "cell_type": "code",
   "execution_count": 68,
   "id": "2eef1540",
   "metadata": {},
   "outputs": [],
   "source": [
    "suft_emis_vmt_onroad_anly = suft_emis_vmt_onroad.loc[\n",
    "    lambda df: df.fips.isin(analysis_fips)\n",
    "]\n",
    "suft_emis_vmt_onroad_anly[\"vmt_mix_dp\"] = (\n",
    "    suft_emis_vmt_onroad_anly.vmt / suft_emis_vmt_onroad_anly.vmt_agg\n",
    ")"
   ]
  },
  {
   "cell_type": "markdown",
   "id": "ee2cd3e7",
   "metadata": {},
   "source": [
    "## Load FY22 and F23 VMT-Mix Created by AxB"
   ]
  },
  {
   "cell_type": "code",
   "execution_count": 69,
   "id": "be7420bb",
   "metadata": {},
   "outputs": [],
   "source": [
    "vmtmix_fy22_13_19 = pd.read_csv(path_vmtmix_fy22_13_19)\n",
    "vmtmix_fy23_13_21 = pd.read_csv(path_vmtmix_fy23_13_21)"
   ]
  },
  {
   "cell_type": "markdown",
   "id": "c745bc68",
   "metadata": {},
   "source": [
    "Process FY22 2013 -- 2019 VMT-Mix and add suffix."
   ]
  },
  {
   "cell_type": "code",
   "execution_count": 70,
   "id": "3cdbc1b8",
   "metadata": {
    "jupyter": {
     "source_hidden": true
    }
   },
   "outputs": [
    {
     "name": "stderr",
     "output_type": "stream",
     "text": [
      "C:\\Users\\a-bibeka\\AppData\\Local\\Temp\\ipykernel_20840\\1720590678.py:10: SettingWithCopyWarning: \n",
      "A value is trying to be set on a copy of a slice from a DataFrame.\n",
      "Try using .loc[row_indexer,col_indexer] = value instead\n",
      "\n",
      "See the caveats in the documentation: https://pandas.pydata.org/pandas-docs/stable/user_guide/indexing.html#returning-a-view-versus-a-copy\n",
      "  vmtmix_fy22_13_19_filt[\"road_type_id\"] = vmtmix_fy22_13_19_filt.mvs_rdtype.astype(int)\n"
     ]
    }
   ],
   "source": [
    "vmtmix_fy22_13_19 = vmtmix_fy22_13_19.merge(district_map_anly, on=\"txdot_dist\")\n",
    "assert (\n",
    "    set(vmtmix_fy22_13_19.fips.unique()).symmetric_difference(set(analysis_fips))\n",
    "    == set()\n",
    ")\n",
    "vmtmix_fy22_13_19_filt = vmtmix_fy22_13_19.loc[\n",
    "    lambda df: (df.dowagg == \"Wkd\")\n",
    "    & (df.tod == \"day\")\n",
    "    & (df.mvs_rdtype_nm != \"ALL\")\n",
    "    & (df.yearID == 2020)\n",
    "]\n",
    "assert len(analysis_fips) * 24 * 4 == len(vmtmix_fy22_13_19_filt)\n",
    "vmtmix_fy22_13_19_filt[\"road_type_id\"] = vmtmix_fy22_13_19_filt.mvs_rdtype.astype(int)\n",
    "vmtmix_fy22_13_19_filt = vmtmix_fy22_13_19_filt.filter(\n",
    "    items=[\"fips\", \"district\", \"road_type_id\", \"sourceTypeID\", \"fuelTypeID\", \"vmt_mix\"]\n",
    ").rename(\n",
    "    columns={\n",
    "        \"sourceTypeID\": \"source_type_id\",\n",
    "        \"fuelTypeID\": \"fuel_type_id\",\n",
    "        \"vmt_mix\": \"vmt_mix_fy22_13_19\",\n",
    "    }\n",
    ")"
   ]
  },
  {
   "cell_type": "markdown",
   "id": "250b8dfc",
   "metadata": {},
   "source": [
    "Process FY23 2013 -- 2021 VMT-Mix and add suffix."
   ]
  },
  {
   "cell_type": "code",
   "execution_count": 71,
   "id": "3003acca",
   "metadata": {},
   "outputs": [
    {
     "name": "stderr",
     "output_type": "stream",
     "text": [
      "C:\\Users\\a-bibeka\\AppData\\Local\\Temp\\ipykernel_20840\\1619829859.py:10: SettingWithCopyWarning: \n",
      "A value is trying to be set on a copy of a slice from a DataFrame.\n",
      "Try using .loc[row_indexer,col_indexer] = value instead\n",
      "\n",
      "See the caveats in the documentation: https://pandas.pydata.org/pandas-docs/stable/user_guide/indexing.html#returning-a-view-versus-a-copy\n",
      "  vmtmix_fy23_13_21_filt[\"road_type_id\"] = vmtmix_fy23_13_21_filt.mvs_rdtype.astype(int)\n"
     ]
    }
   ],
   "source": [
    "vmtmix_fy23_13_21 = vmtmix_fy23_13_21.merge(district_map_anly, on=\"txdot_dist\")\n",
    "assert (\n",
    "    set(vmtmix_fy23_13_21.fips.unique()).symmetric_difference(set(analysis_fips))\n",
    "    == set()\n",
    ")\n",
    "vmtmix_fy23_13_21_filt = vmtmix_fy23_13_21.loc[\n",
    "    lambda df: (df.dowagg == \"Wkd\")\n",
    "    & (df.tod == \"day\")\n",
    "    & (df.mvs_rdtype_nm != \"ALL\")\n",
    "    & (df.yearID == 2020)\n",
    "]\n",
    "assert len(analysis_fips) * 24 * 4 == len(vmtmix_fy23_13_21_filt)\n",
    "vmtmix_fy23_13_21_filt[\"road_type_id\"] = vmtmix_fy23_13_21_filt.mvs_rdtype.astype(int)\n",
    "vmtmix_fy23_13_21_filt = vmtmix_fy23_13_21_filt.filter(\n",
    "    items=[\"fips\", \"district\", \"road_type_id\", \"sourceTypeID\", \"fuelTypeID\", \"vmt_mix\"]\n",
    ").rename(\n",
    "    columns={\n",
    "        \"sourceTypeID\": \"source_type_id\",\n",
    "        \"fuelTypeID\": \"fuel_type_id\",\n",
    "        \"vmt_mix\": \"vmt_mix_fy23_13_21\",\n",
    "    }\n",
    ")"
   ]
  },
  {
   "cell_type": "markdown",
   "id": "e2ba8b68",
   "metadata": {},
   "source": [
    "## Merge AERR 2020 Processed Data with New VMT-Mixes"
   ]
  },
  {
   "cell_type": "code",
   "execution_count": 72,
   "id": "317cc295",
   "metadata": {},
   "outputs": [
    {
     "data": {
      "text/plain": [
       "Index(['fips', 'district', 'road_type_id', 'source_type_id', 'fuel_type_id',\n",
       "       'vmt_mix_fy23_13_21'],\n",
       "      dtype='object')"
      ]
     },
     "execution_count": 72,
     "metadata": {},
     "output_type": "execute_result"
    }
   ],
   "source": [
    "vmtmix_fy23_13_21_filt.columns"
   ]
  },
  {
   "cell_type": "code",
   "execution_count": 73,
   "id": "a88f80a1",
   "metadata": {},
   "outputs": [],
   "source": [
    "suft_emis_vmt_onroad_anly_1 = suft_emis_vmt_onroad_anly.merge(\n",
    "    vmtmix_fy22_13_19_filt,\n",
    "    on=[\"fips\", \"road_type_id\", \"source_type_id\", \"fuel_type_id\"],\n",
    ").merge(\n",
    "    vmtmix_fy23_13_21_filt,\n",
    "    on=[\"district\", \"fips\", \"road_type_id\", \"source_type_id\", \"fuel_type_id\"],\n",
    ")\n",
    "suft_emis_vmt_onroad_anly_1[\"vmt_fy22\"] = (\n",
    "    suft_emis_vmt_onroad_anly_1.vmt_agg * suft_emis_vmt_onroad_anly_1.vmt_mix_fy22_13_19\n",
    ")\n",
    "\n",
    "suft_emis_vmt_onroad_anly_1[\"vmt_fy23\"] = (\n",
    "    suft_emis_vmt_onroad_anly_1.vmt_agg * suft_emis_vmt_onroad_anly_1.vmt_mix_fy23_13_21\n",
    ")\n",
    "\n",
    "suft_emis_vmt_onroad_anly_1[\"emission_quant_fy22\"] = (\n",
    "    suft_emis_vmt_onroad_anly_1.emission_rate_calc\n",
    "    * suft_emis_vmt_onroad_anly_1.vmt_fy22\n",
    "    / 365\n",
    ")\n",
    "suft_emis_vmt_onroad_anly_1[\"emission_quant_fy23\"] = (\n",
    "    suft_emis_vmt_onroad_anly_1.emission_rate_calc\n",
    "    * suft_emis_vmt_onroad_anly_1.vmt_fy23\n",
    "    / 365\n",
    ")\n",
    "\n",
    "suft_emis_vmt_onroad_anly_1[\"emission_quant_dp\"] = (\n",
    "    suft_emis_vmt_onroad_anly_1.emission_quant / 365\n",
    ")"
   ]
  },
  {
   "cell_type": "code",
   "execution_count": 74,
   "id": "a075f965",
   "metadata": {},
   "outputs": [
    {
     "data": {
      "text/plain": [
       "Index(['county', 'fips', 'year_id', 'road_type_id', 'roadtype_lab',\n",
       "       'pollutant_id', 'short_name_mvs3', 'sort_order_pol', 'eis_poll_nei17',\n",
       "       'short_name_nei17', 'source_type_id', 'fuel_type_id', 'emission_quant',\n",
       "       'activity_type_id', 'mvs_act_type', 'act_em_lab', 'vmt', 'vmt_agg',\n",
       "       'emission_rate_calc', 'vmt_mix_dp', 'district', 'vmt_mix_fy22_13_19',\n",
       "       'vmt_mix_fy23_13_21', 'vmt_fy22', 'vmt_fy23', 'emission_quant_fy22',\n",
       "       'emission_quant_fy23', 'emission_quant_dp'],\n",
       "      dtype='object')"
      ]
     },
     "execution_count": 74,
     "metadata": {},
     "output_type": "execute_result"
    }
   ],
   "source": [
    "suft_emis_vmt_onroad_anly_1.columns"
   ]
  },
  {
   "cell_type": "code",
   "execution_count": 75,
   "id": "fa06fa32",
   "metadata": {},
   "outputs": [],
   "source": [
    "emis_comp_pol = (\n",
    "    suft_emis_vmt_onroad_anly_1.loc[\n",
    "        lambda df: df.eis_poll_nei17.isin(\n",
    "            [\"CO\", \"NH3\", \"SO2\", \"NOX\", \"VOC\", \"CO2\", \"PM10-PRI\", \"PM25-PRI\", 71432]\n",
    "        )\n",
    "    ]\n",
    "    .groupby([\"short_name_mvs3\", \"county\", \"fips\", \"district\"], as_index=False)\n",
    "    .agg(\n",
    "        vmt_mix_dp=(\"vmt_mix_dp\", \"sum\"),\n",
    "        vmt_mix_fy22=(\"vmt_mix_fy22_13_19\", \"sum\"),\n",
    "        vmt_mix_fy23=(\"vmt_mix_fy23_13_21\", \"sum\"),\n",
    "        vmt_dp=(\"vmt\", \"sum\"),\n",
    "        vmt_fy22=(\"vmt_fy22\", \"sum\"),\n",
    "        vmt_fy23=(\"vmt_fy23\", \"sum\"),\n",
    "        emission_quant_dp=(\"emission_quant_dp\", \"sum\"),\n",
    "        emission_quant_fy22=(\"emission_quant_fy22\", \"sum\"),\n",
    "        emission_quant_fy23=(\"emission_quant_fy23\", \"sum\"),\n",
    "    )\n",
    ")\n",
    "emis_comp_pol = emis_comp_pol.assign(\n",
    "    vmt_mix_diff_fy22_dp=lambda df: df.vmt_mix_fy22 - df.vmt_mix_dp,\n",
    "    vmt_mix_diff_fy23_dp=lambda df: df.vmt_mix_fy23 - df.vmt_mix_dp,\n",
    "    vmt_mix_diff_fy23_fy22=lambda df: df.vmt_mix_fy23 - df.vmt_mix_fy22,\n",
    "    vmt_diff_fy22_dp=lambda df: df.vmt_fy22 - df.vmt_mix_dp,\n",
    "    vmt_diff_fy23_dp=lambda df: df.vmt_fy23 - df.vmt_dp,\n",
    "    vmt_diff_fy23_fy22=lambda df: df.vmt_fy23 - df.vmt_fy22,\n",
    "    vmt_perdiff_fy22_dp=lambda df: 100 * df.vmt_diff_fy22_dp / df.vmt_dp,\n",
    "    vmt_perdiff_fy23_dp=lambda df: 100 * df.vmt_diff_fy23_dp / df.vmt_dp,\n",
    "    vmt_perdiff_fy23_fy22=lambda df: 100 * df.vmt_diff_fy23_fy22 / df.vmt_fy22,\n",
    "    emission_quant_diff_fy22_dp=lambda df: df.emission_quant_fy22\n",
    "    - df.emission_quant_dp,\n",
    "    emission_quant_diff_fy23_dp=lambda df: df.emission_quant_fy23\n",
    "    - df.emission_quant_dp,\n",
    "    emission_quant_diff_fy22_fy23=lambda df: df.emission_quant_fy23\n",
    "    - df.emission_quant_fy22,\n",
    "    emission_quant_perdiff_fy22_dp=lambda df: 100\n",
    "    * df.emission_quant_diff_fy22_dp\n",
    "    / df.emission_quant_dp,\n",
    "    emission_quant_perdiff_fy23_dp=lambda df: 100\n",
    "    * df.emission_quant_diff_fy23_dp\n",
    "    / df.emission_quant_dp,\n",
    "    emission_quant_perdiff_fy23_fy22=lambda df: 100\n",
    "    * df.emission_quant_diff_fy22_fy23\n",
    "    / df.emission_quant_fy22,\n",
    ")"
   ]
  },
  {
   "cell_type": "markdown",
   "id": "01d39183",
   "metadata": {},
   "source": [
    "Ouput file"
   ]
  },
  {
   "cell_type": "code",
   "execution_count": 76,
   "id": "495d9379",
   "metadata": {},
   "outputs": [],
   "source": [
    "path_out = Path.joinpath(path_vmtmix_fy22_13_19.parent, \"QC\", \"aerr_vmt_mix_impact.csv\")\n",
    "emis_comp_pol.to_csv(path_out)"
   ]
  },
  {
   "cell_type": "code",
   "execution_count": 77,
   "id": "31186365",
   "metadata": {},
   "outputs": [],
   "source": [
    "pd.options.display.float_format = \"{:,.5f}\".format"
   ]
  },
  {
   "cell_type": "code",
   "execution_count": 78,
   "id": "43a209d5",
   "metadata": {},
   "outputs": [
    {
     "data": {
      "text/plain": [
       "vmt_mix_dp                      4.00000\n",
       "vmt_mix_fy22                    3.99912\n",
       "vmt_mix_fy23                    3.99912\n",
       "vmt_dp                414,585,308.95400\n",
       "vmt_fy22              414,494,172.95734\n",
       "vmt_fy23              414,502,688.41387\n",
       "emission_quant_dp               1.60332\n",
       "emission_quant_fy22             1.73516\n",
       "emission_quant_fy23             1.70968\n",
       "dtype: float64"
      ]
     },
     "execution_count": 78,
     "metadata": {},
     "output_type": "execute_result"
    }
   ],
   "source": [
    "emis_comp_pol_co = emis_comp_pol.loc[\n",
    "    lambda df: (df.short_name_mvs3.isin([\"NOx\"]) & (df.fips == 48353))\n",
    "][\n",
    "    [\n",
    "        \"vmt_mix_dp\",\n",
    "        \"vmt_mix_fy22\",\n",
    "        \"vmt_mix_fy23\",\n",
    "        \"vmt_dp\",\n",
    "        \"vmt_fy22\",\n",
    "        \"vmt_fy23\",\n",
    "        \"emission_quant_dp\",\n",
    "        \"emission_quant_fy22\",\n",
    "        \"emission_quant_fy23\",\n",
    "    ]\n",
    "].sum()\n",
    "emis_comp_pol_co"
   ]
  },
  {
   "cell_type": "code",
   "execution_count": 79,
   "id": "dd5f7c03",
   "metadata": {},
   "outputs": [
    {
     "data": {
      "text/plain": [
       "array([48001, 48003, 48005, 48007, 48009, 48011, 48013, 48015, 48017,\n",
       "       48019, 48021, 48023, 48025, 48027, 48029, 48031, 48033, 48035,\n",
       "       48037, 48039, 48041, 48043, 48045, 48047, 48049, 48051, 48053,\n",
       "       48055, 48057, 48059, 48061, 48063, 48065, 48067, 48069, 48071,\n",
       "       48073, 48075, 48077, 48079, 48081, 48083, 48085, 48087, 48089,\n",
       "       48091, 48093, 48095, 48097, 48099, 48101, 48103, 48105, 48107,\n",
       "       48109, 48111, 48113, 48115, 48123, 48117, 48119, 48121, 48125,\n",
       "       48127, 48129, 48131, 48133, 48135, 48137, 48141, 48139, 48143,\n",
       "       48145, 48147, 48149, 48151, 48153, 48155, 48157, 48159, 48161,\n",
       "       48163, 48165, 48167, 48169, 48171, 48173, 48175, 48177, 48179,\n",
       "       48181, 48183, 48185, 48187, 48189, 48191, 48193, 48195, 48197,\n",
       "       48199, 48201, 48203, 48205, 48207, 48209, 48211, 48213, 48215,\n",
       "       48217, 48219, 48221, 48223, 48225, 48227, 48229, 48231, 48233,\n",
       "       48235, 48237, 48239, 48241, 48243, 48245, 48247, 48249, 48251,\n",
       "       48253, 48255, 48257, 48259, 48261, 48263, 48265, 48267, 48269,\n",
       "       48271, 48273, 48275, 48283, 48277, 48279, 48281, 48285, 48287,\n",
       "       48289, 48291, 48293, 48295, 48297, 48299, 48301, 48303, 48305,\n",
       "       48313, 48315, 48317, 48319, 48321, 48323, 48307, 48309, 48311,\n",
       "       48325, 48327, 48329, 48331, 48333, 48335, 48337, 48339, 48341,\n",
       "       48343, 48345, 48347, 48349, 48351, 48353, 48355, 48357, 48359,\n",
       "       48361, 48363, 48365, 48367, 48369, 48371, 48373, 48375, 48377,\n",
       "       48379, 48381, 48383, 48385, 48387, 48389, 48391, 48393, 48395,\n",
       "       48397, 48399, 48401, 48403, 48405, 48407, 48409, 48411, 48413,\n",
       "       48415, 48417, 48419, 48421, 48423, 48425, 48427, 48429, 48431,\n",
       "       48433, 48435, 48437, 48439, 48441, 48443, 48445, 48447, 48449,\n",
       "       48451, 48453, 48455, 48457, 48459, 48461, 48463, 48465, 48467,\n",
       "       48469, 48471, 48473, 48475, 48477, 48479, 48481, 48483, 48485,\n",
       "       48487, 48489, 48491, 48493, 48495, 48497, 48499, 48501, 48503,\n",
       "       48505, 48507], dtype=int64)"
      ]
     },
     "execution_count": 79,
     "metadata": {},
     "output_type": "execute_result"
    }
   ],
   "source": [
    "emis_comp_pol.fips.unique()"
   ]
  },
  {
   "cell_type": "code",
   "execution_count": null,
   "id": "a9b78648",
   "metadata": {},
   "outputs": [],
   "source": []
  }
 ],
 "metadata": {
  "kernelspec": {
   "display_name": "Python 3 (Spyder)",
   "language": "python3",
   "name": "python3"
  },
  "language_info": {
   "codemirror_mode": {
    "name": "ipython",
    "version": 3
   },
   "file_extension": ".py",
   "mimetype": "text/x-python",
   "name": "python",
   "nbconvert_exporter": "python",
   "pygments_lexer": "ipython3",
   "version": "3.9.13"
  }
 },
 "nbformat": 4,
 "nbformat_minor": 5
}
